{
  "nbformat": 4,
  "nbformat_minor": 0,
  "metadata": {
    "colab": {
      "name": "CrossInstall_Tweets_Showcase.ipynb",
      "provenance": [],
      "authorship_tag": "ABX9TyNfPGMLPgsGHzVvXzWCSmUv",
      "include_colab_link": true
    },
    "kernelspec": {
      "name": "python3",
      "display_name": "Python 3"
    }
  },
  "cells": [
    {
      "cell_type": "markdown",
      "metadata": {
        "id": "view-in-github",
        "colab_type": "text"
      },
      "source": [
        "<a href=\"https://colab.research.google.com/github/tighu20/TweetSentimentExtractionDecisionMaking/blob/master/CrossInstall_Tweets_Showcase.ipynb\" target=\"_parent\"><img src=\"https://colab.research.google.com/assets/colab-badge.svg\" alt=\"Open In Colab\"/></a>"
      ]
    },
    {
      "cell_type": "code",
      "metadata": {
        "id": "k7ztsWFdhxR_",
        "colab_type": "code",
        "colab": {
          "base_uri": "https://localhost:8080/",
          "height": 187
        },
        "outputId": "55a3aee4-15d7-42e5-f403-3292711eb365"
      },
      "source": [
        "pip install tweepy"
      ],
      "execution_count": 1,
      "outputs": [
        {
          "output_type": "stream",
          "text": [
            "Requirement already satisfied: tweepy in /usr/local/lib/python3.6/dist-packages (3.6.0)\n",
            "Requirement already satisfied: requests>=2.11.1 in /usr/local/lib/python3.6/dist-packages (from tweepy) (2.23.0)\n",
            "Requirement already satisfied: requests-oauthlib>=0.7.0 in /usr/local/lib/python3.6/dist-packages (from tweepy) (1.3.0)\n",
            "Requirement already satisfied: six>=1.10.0 in /usr/local/lib/python3.6/dist-packages (from tweepy) (1.12.0)\n",
            "Requirement already satisfied: PySocks>=1.5.7 in /usr/local/lib/python3.6/dist-packages (from tweepy) (1.7.1)\n",
            "Requirement already satisfied: idna<3,>=2.5 in /usr/local/lib/python3.6/dist-packages (from requests>=2.11.1->tweepy) (2.9)\n",
            "Requirement already satisfied: chardet<4,>=3.0.2 in /usr/local/lib/python3.6/dist-packages (from requests>=2.11.1->tweepy) (3.0.4)\n",
            "Requirement already satisfied: urllib3!=1.25.0,!=1.25.1,<1.26,>=1.21.1 in /usr/local/lib/python3.6/dist-packages (from requests>=2.11.1->tweepy) (1.24.3)\n",
            "Requirement already satisfied: certifi>=2017.4.17 in /usr/local/lib/python3.6/dist-packages (from requests>=2.11.1->tweepy) (2020.4.5.1)\n",
            "Requirement already satisfied: oauthlib>=3.0.0 in /usr/local/lib/python3.6/dist-packages (from requests-oauthlib>=0.7.0->tweepy) (3.1.0)\n"
          ],
          "name": "stdout"
        }
      ]
    },
    {
      "cell_type": "code",
      "metadata": {
        "id": "Eiv8JNM5h4M7",
        "colab_type": "code",
        "colab": {}
      },
      "source": [
        "import tweepy\n",
        "consumer_key=\"XXXXXXXXXXXXXXXXXXXXXXXXXXXXXXXXXXXXXXX\"\n",
        "consumer_secret=\"XXXXXXXXXXXXXXXXXXXXXXXXXXXXXXXXXXXXXXXXXXX\"\n",
        "auth = tweepy.OAuthHandler(consumer_key, consumer_secret)\n",
        "access_token=\"XXXXXXXXXXXXXXXXXXXXXXXXXXX-XXXXXXXXXXXXXXXXXXXXXXXXXXXX\"\n",
        "access_token_secret=\"XXXXXXXXXXXXXXXXXXXXXXXXXXXXXXXXXXXXXXXX\"\n",
        "auth.set_access_token(access_token, access_token_secret)\n",
        "api = tweepy.API(auth)"
      ],
      "execution_count": 0,
      "outputs": []
    },
    {
      "cell_type": "code",
      "metadata": {
        "id": "FdckgVLzySW6",
        "colab_type": "code",
        "colab": {}
      },
      "source": [
        "import pandas as pd\n",
        "def get_related_tweets(key_word):\n",
        "\n",
        "    twitter_users = []\n",
        "    tweet_time = []\n",
        "    tweet_string = [] \n",
        "    for tweet in tweepy.Cursor(api.search,q=key_word, count=1000).items(1000):\n",
        "            if (not tweet.retweeted) and ('RT @' not in tweet.text):\n",
        "                if tweet.lang == \"en\":\n",
        "                    twitter_users.append(tweet.user.name)\n",
        "                    tweet_time.append(tweet.created_at)\n",
        "                    tweet_string.append(tweet.text)\n",
        "                    #print([tweet.user.name,tweet.created_at,tweet.text])\n",
        "    df = pd.DataFrame({'name':twitter_users, 'time': tweet_time, 'tweet': tweet_string})\n",
        "    \n",
        "    return df"
      ],
      "execution_count": 0,
      "outputs": []
    },
    {
      "cell_type": "code",
      "metadata": {
        "id": "UjfSeCO1y2Q0",
        "colab_type": "code",
        "colab": {}
      },
      "source": [
        "df = get_related_tweets(\"last dance\")"
      ],
      "execution_count": 0,
      "outputs": []
    },
    {
      "cell_type": "code",
      "metadata": {
        "id": "nZ3pWPU9zBsq",
        "colab_type": "code",
        "colab": {
          "base_uri": "https://localhost:8080/",
          "height": 34
        },
        "outputId": "1b693c47-db7b-4faa-e91b-a7143c314aeb"
      },
      "source": [
        "df.shape"
      ],
      "execution_count": 10,
      "outputs": [
        {
          "output_type": "execute_result",
          "data": {
            "text/plain": [
              "(249, 3)"
            ]
          },
          "metadata": {
            "tags": []
          },
          "execution_count": 10
        }
      ]
    },
    {
      "cell_type": "code",
      "metadata": {
        "id": "GpNUnhyl0doq",
        "colab_type": "code",
        "colab": {
          "base_uri": "https://localhost:8080/",
          "height": 359
        },
        "outputId": "c7200084-f6e4-4178-a05d-d1202f58dbc1"
      },
      "source": [
        "df.head(10)"
      ],
      "execution_count": 11,
      "outputs": [
        {
          "output_type": "execute_result",
          "data": {
            "text/html": [
              "<div>\n",
              "<style scoped>\n",
              "    .dataframe tbody tr th:only-of-type {\n",
              "        vertical-align: middle;\n",
              "    }\n",
              "\n",
              "    .dataframe tbody tr th {\n",
              "        vertical-align: top;\n",
              "    }\n",
              "\n",
              "    .dataframe thead th {\n",
              "        text-align: right;\n",
              "    }\n",
              "</style>\n",
              "<table border=\"1\" class=\"dataframe\">\n",
              "  <thead>\n",
              "    <tr style=\"text-align: right;\">\n",
              "      <th></th>\n",
              "      <th>name</th>\n",
              "      <th>time</th>\n",
              "      <th>tweet</th>\n",
              "    </tr>\n",
              "  </thead>\n",
              "  <tbody>\n",
              "    <tr>\n",
              "      <th>0</th>\n",
              "      <td>Jaylin Lucas</td>\n",
              "      <td>2020-05-21 04:35:33</td>\n",
              "      <td>Just finished The Last Dance and it’s got me t...</td>\n",
              "    </tr>\n",
              "    <tr>\n",
              "      <th>1</th>\n",
              "      <td>Christian</td>\n",
              "      <td>2020-05-21 04:35:02</td>\n",
              "      <td>@LjsGoat “its time for one last dance” https:/...</td>\n",
              "    </tr>\n",
              "    <tr>\n",
              "      <th>2</th>\n",
              "      <td>𝔸𝕝𝕚𝕤𝕙𝕒</td>\n",
              "      <td>2020-05-21 04:34:57</td>\n",
              "      <td>I wish the Last Dance documentary on Netflix w...</td>\n",
              "    </tr>\n",
              "    <tr>\n",
              "      <th>3</th>\n",
              "      <td>D. Michael ⭐⭐⭐⭐⭐⭐⭐⭐</td>\n",
              "      <td>2020-05-21 04:34:46</td>\n",
              "      <td>reboot save the last dance https://t.co/Wo7GS6...</td>\n",
              "    </tr>\n",
              "    <tr>\n",
              "      <th>4</th>\n",
              "      <td>David 🦦</td>\n",
              "      <td>2020-05-21 04:34:45</td>\n",
              "      <td>The last dance was such a great series https:/...</td>\n",
              "    </tr>\n",
              "    <tr>\n",
              "      <th>5</th>\n",
              "      <td>al</td>\n",
              "      <td>2020-05-21 04:33:59</td>\n",
              "      <td>The Last Dance is phenomenal thus far....Chica...</td>\n",
              "    </tr>\n",
              "    <tr>\n",
              "      <th>6</th>\n",
              "      <td>wooder</td>\n",
              "      <td>2020-05-21 04:33:27</td>\n",
              "      <td>Finally getting around to watching the last da...</td>\n",
              "    </tr>\n",
              "    <tr>\n",
              "      <th>7</th>\n",
              "      <td>Cole</td>\n",
              "      <td>2020-05-21 04:33:25</td>\n",
              "      <td>Finally watched the last 2 episodes of the Las...</td>\n",
              "    </tr>\n",
              "    <tr>\n",
              "      <th>8</th>\n",
              "      <td>Annalise Coleman</td>\n",
              "      <td>2020-05-21 04:33:17</td>\n",
              "      <td>I unfortunately am addicted to watching the la...</td>\n",
              "    </tr>\n",
              "    <tr>\n",
              "      <th>9</th>\n",
              "      <td>The Flood</td>\n",
              "      <td>2020-05-21 04:32:40</td>\n",
              "      <td>Finished \"The Last Dance\"  -  what a ride!</td>\n",
              "    </tr>\n",
              "  </tbody>\n",
              "</table>\n",
              "</div>"
            ],
            "text/plain": [
              "                  name  ...                                              tweet\n",
              "0         Jaylin Lucas  ...  Just finished The Last Dance and it’s got me t...\n",
              "1            Christian  ...  @LjsGoat “its time for one last dance” https:/...\n",
              "2               𝔸𝕝𝕚𝕤𝕙𝕒  ...  I wish the Last Dance documentary on Netflix w...\n",
              "3  D. Michael ⭐⭐⭐⭐⭐⭐⭐⭐  ...  reboot save the last dance https://t.co/Wo7GS6...\n",
              "4              David 🦦  ...  The last dance was such a great series https:/...\n",
              "5                   al  ...  The Last Dance is phenomenal thus far....Chica...\n",
              "6               wooder  ...  Finally getting around to watching the last da...\n",
              "7                 Cole  ...  Finally watched the last 2 episodes of the Las...\n",
              "8     Annalise Coleman  ...  I unfortunately am addicted to watching the la...\n",
              "9            The Flood  ...         Finished \"The Last Dance\"  -  what a ride!\n",
              "\n",
              "[10 rows x 3 columns]"
            ]
          },
          "metadata": {
            "tags": []
          },
          "execution_count": 11
        }
      ]
    },
    {
      "cell_type": "code",
      "metadata": {
        "id": "6FRosmoCf3Ct",
        "colab_type": "code",
        "colab": {
          "base_uri": "https://localhost:8080/",
          "height": 335
        },
        "outputId": "4a88079c-332d-4ef4-d9bc-9ae4de51ee8f"
      },
      "source": [
        "from textblob import TextBlob\n",
        "import seaborn as sns\n",
        "import matplotlib.pyplot as plt\n",
        "df['sentiment'] = df['tweet'].apply(lambda tweet: TextBlob(tweet).sentiment.polarity)\n",
        "df_pos = df[df['sentiment'] > -0.1]\n",
        "df_neg = df[df['sentiment'] < -0.1]\n",
        "print(\"Number of Positive Tweets\", len(df_pos))\n",
        "print(\"Number of Negative Tweets\", len(df_neg))\n",
        "sns.set()\n",
        "labels = ['Postive', 'Negative']\n",
        "heights = [len(df_pos), len(df_neg)]\n",
        "plt.bar(labels, heights, color = 'navy')\n",
        "plt.title(\"The Last Dance sentiment comparision\")\n",
        "\n"
      ],
      "execution_count": 15,
      "outputs": [
        {
          "output_type": "stream",
          "text": [
            "Number of Positive Tweets 222\n",
            "Number of Negative Tweets 26\n"
          ],
          "name": "stdout"
        },
        {
          "output_type": "execute_result",
          "data": {
            "text/plain": [
              "Text(0.5, 1.0, 'The Last Dance sentiment comparision')"
            ]
          },
          "metadata": {
            "tags": []
          },
          "execution_count": 15
        },
        {
          "output_type": "display_data",
          "data": {
            "image/png": "[encoded data removed]",
            "text/plain": [
              "<Figure size 432x288 with 1 Axes>"
            ]
          },
          "metadata": {
            "tags": []
          }
        }
      ]
    },
    {
      "cell_type": "code",
      "metadata": {
        "id": "NZXQ-6RTg5_k",
        "colab_type": "code",
        "colab": {}
      },
      "source": [
        "df1 = get_related_tweets(\"Mandalorian\")"
      ],
      "execution_count": 0,
      "outputs": []
    },
    {
      "cell_type": "code",
      "metadata": {
        "id": "GfTZc1OQhycd",
        "colab_type": "code",
        "colab": {
          "base_uri": "https://localhost:8080/",
          "height": 34
        },
        "outputId": "cc7ce233-bce3-4780-ba64-7e6e570b31b6"
      },
      "source": [
        "df1.shape"
      ],
      "execution_count": 20,
      "outputs": [
        {
          "output_type": "execute_result",
          "data": {
            "text/plain": [
              "(428, 3)"
            ]
          },
          "metadata": {
            "tags": []
          },
          "execution_count": 20
        }
      ]
    },
    {
      "cell_type": "code",
      "metadata": {
        "id": "bjpP0B0kh0zL",
        "colab_type": "code",
        "colab": {
          "base_uri": "https://localhost:8080/",
          "height": 204
        },
        "outputId": "88b59c06-e398-4750-8eee-f7339b9befe2"
      },
      "source": [
        "df1.head(5)"
      ],
      "execution_count": 21,
      "outputs": [
        {
          "output_type": "execute_result",
          "data": {
            "text/html": [
              "<div>\n",
              "<style scoped>\n",
              "    .dataframe tbody tr th:only-of-type {\n",
              "        vertical-align: middle;\n",
              "    }\n",
              "\n",
              "    .dataframe tbody tr th {\n",
              "        vertical-align: top;\n",
              "    }\n",
              "\n",
              "    .dataframe thead th {\n",
              "        text-align: right;\n",
              "    }\n",
              "</style>\n",
              "<table border=\"1\" class=\"dataframe\">\n",
              "  <thead>\n",
              "    <tr style=\"text-align: right;\">\n",
              "      <th></th>\n",
              "      <th>name</th>\n",
              "      <th>time</th>\n",
              "      <th>tweet</th>\n",
              "    </tr>\n",
              "  </thead>\n",
              "  <tbody>\n",
              "    <tr>\n",
              "      <th>0</th>\n",
              "      <td>JASON ZUMWALT</td>\n",
              "      <td>2020-05-21 04:42:59</td>\n",
              "      <td>If you’re a Mandalorian fan I can not recommen...</td>\n",
              "    </tr>\n",
              "    <tr>\n",
              "      <th>1</th>\n",
              "      <td>rebel</td>\n",
              "      <td>2020-05-21 04:42:52</td>\n",
              "      <td>.@SuspendedFanim1 \\n\\nTimothy Oliphant will pl...</td>\n",
              "    </tr>\n",
              "    <tr>\n",
              "      <th>2</th>\n",
              "      <td>Stephen Hester</td>\n",
              "      <td>2020-05-21 04:41:40</td>\n",
              "      <td>Im just\\nIm gonna say it\\nCaptain Rex walked s...</td>\n",
              "    </tr>\n",
              "    <tr>\n",
              "      <th>3</th>\n",
              "      <td>Borri</td>\n",
              "      <td>2020-05-21 04:39:45</td>\n",
              "      <td>Why am I getting Mandalorian ads in May</td>\n",
              "    </tr>\n",
              "    <tr>\n",
              "      <th>4</th>\n",
              "      <td>Valerie</td>\n",
              "      <td>2020-05-21 04:37:12</td>\n",
              "      <td>I'm watching the disney gallery episodes from ...</td>\n",
              "    </tr>\n",
              "  </tbody>\n",
              "</table>\n",
              "</div>"
            ],
            "text/plain": [
              "             name  ...                                              tweet\n",
              "0   JASON ZUMWALT  ...  If you’re a Mandalorian fan I can not recommen...\n",
              "1           rebel  ...  .@SuspendedFanim1 \\n\\nTimothy Oliphant will pl...\n",
              "2  Stephen Hester  ...  Im just\\nIm gonna say it\\nCaptain Rex walked s...\n",
              "3           Borri  ...            Why am I getting Mandalorian ads in May\n",
              "4         Valerie  ...  I'm watching the disney gallery episodes from ...\n",
              "\n",
              "[5 rows x 3 columns]"
            ]
          },
          "metadata": {
            "tags": []
          },
          "execution_count": 21
        }
      ]
    },
    {
      "cell_type": "code",
      "metadata": {
        "id": "91y9PVsWh3Yr",
        "colab_type": "code",
        "colab": {
          "base_uri": "https://localhost:8080/",
          "height": 335
        },
        "outputId": "d4b45e47-7668-4180-cba6-1f8bfd1e35ea"
      },
      "source": [
        "df1['sentiment'] = df1['tweet'].apply(lambda tweet: TextBlob(tweet).sentiment.polarity)\n",
        "df_pos = df1[df1['sentiment'] > -0.1]\n",
        "df_neg = df1[df1['sentiment'] < -0.1]\n",
        "print(\"Number of Positive Tweets\", len(df_pos))\n",
        "print(\"Number of Negative Tweets\", len(df_neg))\n",
        "sns.set()\n",
        "labels = ['Postive', 'Negative']\n",
        "heights = [len(df_pos), len(df_neg)]\n",
        "plt.bar(labels, heights, color = 'navy')\n",
        "plt.title(\"Mandalorian sentiment comparision\")"
      ],
      "execution_count": 22,
      "outputs": [
        {
          "output_type": "stream",
          "text": [
            "Number of Positive Tweets 383\n",
            "Number of Negative Tweets 42\n"
          ],
          "name": "stdout"
        },
        {
          "output_type": "execute_result",
          "data": {
            "text/plain": [
              "Text(0.5, 1.0, 'Mandalorian sentiment comparision')"
            ]
          },
          "metadata": {
            "tags": []
          },
          "execution_count": 22
        },
        {
          "output_type": "display_data",
          "data": {
            "image/png": "[encoded data removed]",
            "text/plain": [
              "<Figure size 432x288 with 1 Axes>"
            ]
          },
          "metadata": {
            "tags": []
          }
        }
      ]
    },
    {
      "cell_type": "code",
      "metadata": {
        "id": "9jr5rApkjS2j",
        "colab_type": "code",
        "colab": {}
      },
      "source": [
        ""
      ],
      "execution_count": 0,
      "outputs": []
    }
  ]
}